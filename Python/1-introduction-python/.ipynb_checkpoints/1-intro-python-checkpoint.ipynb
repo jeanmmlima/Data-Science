{
 "cells": [
  {
   "cell_type": "markdown",
   "metadata": {},
   "source": [
    "## Conceitos básicos de Python para Ciência de Dados\n",
    "### *Basic concepts of python for data science*\n",
    "\n",
    "### 1. Strings"
   ]
  },
  {
   "cell_type": "code",
   "execution_count": 5,
   "metadata": {},
   "outputs": [],
   "source": [
    "single_quoted_string = 'ciencia de dados'\n",
    "double_quoted_string = \"ciencia de dados\"\n",
    "\n",
    "#barra invertida codifica caraceres especiais\n",
    "tab_string=\"\\t\"\n",
    "len(tab_string) #1\n",
    "\n",
    "#para exibir barra invertida\n",
    "not_tab_string = r\"\\t\"\n",
    "len(not_tab_string) #2\n",
    "\n",
    "#strings mútliplas com aspas triplas ou duplas\n",
    "mult_line_string = \"\"\"esta é a primeira linha\n",
    "e esta é a segunda\n",
    "e esta é a terceira linha\"\"\"\n"
   ]
  },
  {
   "cell_type": "markdown",
   "metadata": {},
   "source": [
    "### 2. Exceções\n",
    " *Exceptions*\n",
    "\n",
    "Manipulando exceções com *try* and *except*"
   ]
  },
  {
   "cell_type": "code",
   "execution_count": 8,
   "metadata": {},
   "outputs": [
    {
     "name": "stdout",
     "output_type": "stream",
     "text": [
      "cannot divide by zero\n"
     ]
    }
   ],
   "source": [
    "try:\n",
    "    print (0/0)\n",
    "except ZeroDivisionError:\n",
    "    print (\"cannot divide by zero\")"
   ]
  },
  {
   "cell_type": "markdown",
   "metadata": {},
   "source": [
    "### 3. Listas\n",
    "*List*"
   ]
  },
  {
   "cell_type": "code",
   "execution_count": 20,
   "metadata": {},
   "outputs": [
    {
     "data": {
      "text/plain": [
       "False"
      ]
     },
     "execution_count": 20,
     "metadata": {},
     "output_type": "execute_result"
    }
   ],
   "source": [
    "#estrutura de dados mais básica em python\n",
    "\n",
    "integer_list = [1, 2, 3]\n",
    "\n",
    "heterogeneous_list = [\"string\", 0.1, True]\n",
    "\n",
    "list_of_lists = [integer_list, heterogeneous_list, []]\n",
    "\n",
    "\n",
    "list_length = len(integer_list) #igual a 3\n",
    "list_sum = sum(integer_list) #igual a 6\n",
    "\n",
    "#possível acessar ou modificar um n-ésimo elemento de uma lista com [ ]\n",
    "\n",
    "x = list(range(10)) #cria lista [0, 1, ...,9]\n",
    "\n",
    "zero = x[0] #zero recebe o primeiro elemento da lista x\n",
    "one = x[1] #igual a 1\n",
    "nine = x[-1] # igual a 9\n",
    "x[0] = -1 #modifica o dado na posição 0 de x, agora será -1\n",
    "\n",
    "# possível repartir listas\n",
    "\n",
    "first_three = x[:3]\n",
    "three_to_end = x[3:]\n",
    "one_to_four = x[1:5]\n",
    "last_three = x[-3:]\n",
    "\n",
    "#operador IN para verificar associação à lista:\n",
    "\n",
    "1 in [1,2,3] #True\n",
    "0 in [1,2,3] #False\n",
    "\n"
   ]
  },
  {
   "cell_type": "code",
   "execution_count": null,
   "metadata": {},
   "outputs": [],
   "source": []
  },
  {
   "cell_type": "code",
   "execution_count": 19,
   "metadata": {},
   "outputs": [
    {
     "data": {
      "text/plain": [
       "[1, 2, 3, 4]"
      ]
     },
     "execution_count": 19,
     "metadata": {},
     "output_type": "execute_result"
    }
   ],
   "source": [
    "one_to_four"
   ]
  },
  {
   "cell_type": "code",
   "execution_count": null,
   "metadata": {},
   "outputs": [],
   "source": []
  }
 ],
 "metadata": {
  "kernelspec": {
   "display_name": "Python 3",
   "language": "python",
   "name": "python3"
  },
  "language_info": {
   "codemirror_mode": {
    "name": "ipython",
    "version": 3
   },
   "file_extension": ".py",
   "mimetype": "text/x-python",
   "name": "python",
   "nbconvert_exporter": "python",
   "pygments_lexer": "ipython3",
   "version": "3.7.4"
  }
 },
 "nbformat": 4,
 "nbformat_minor": 2
}
