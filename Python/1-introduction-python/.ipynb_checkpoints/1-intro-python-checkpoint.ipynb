{
 "cells": [
  {
   "cell_type": "markdown",
   "metadata": {},
   "source": [
    "## Conceitos básicos de Python para Ciência de Dados\n",
    "### *Basic concepts of python for data science*\n",
    "\n",
    "### 1. Strings"
   ]
  },
  {
   "cell_type": "code",
   "execution_count": 5,
   "metadata": {},
   "outputs": [],
   "source": [
    "single_quoted_string = 'ciencia de dados'\n",
    "double_quoted_string = \"ciencia de dados\"\n",
    "\n",
    "#barra invertida codifica caraceres especiais\n",
    "tab_string=\"\\t\"\n",
    "len(tab_string) #1\n",
    "\n",
    "#para exibir barra invertida\n",
    "not_tab_string = r\"\\t\"\n",
    "len(not_tab_string) #2\n",
    "\n",
    "#strings mútliplas com aspas triplas ou duplas\n",
    "mult_line_string = \"\"\"esta é a primeira linha\n",
    "e esta é a segunda\n",
    "e esta é a terceira linha\"\"\"\n"
   ]
  },
  {
   "cell_type": "markdown",
   "metadata": {},
   "source": [
    "### 2. Exceções\n",
    " *Exceptions*\n",
    "\n",
    "Manipulando exceções com *try* and *except*"
   ]
  },
  {
   "cell_type": "code",
   "execution_count": 8,
   "metadata": {},
   "outputs": [
    {
     "name": "stdout",
     "output_type": "stream",
     "text": [
      "cannot divide by zero\n"
     ]
    }
   ],
   "source": [
    "try:\n",
    "    print (0/0)\n",
    "except ZeroDivisionError:\n",
    "    print (\"cannot divide by zero\")"
   ]
  },
  {
   "cell_type": "markdown",
   "metadata": {},
   "source": [
    "### 3. Listas\n",
    "*List*"
   ]
  },
  {
   "cell_type": "code",
   "execution_count": 31,
   "metadata": {},
   "outputs": [],
   "source": [
    "# estrutura de dados mais básica em python\n",
    "\n",
    "integer_list = [1, 2, 3]\n",
    "\n",
    "heterogeneous_list = [\"string\", 0.1, True]\n",
    "\n",
    "list_of_lists = [integer_list, heterogeneous_list, []]\n",
    "\n",
    "\n",
    "list_length = len(integer_list) #igual a 3\n",
    "list_sum = sum(integer_list) #igual a 6\n",
    "\n",
    "# possível acessar ou modificar um n-ésimo elemento de uma lista com [ ]\n",
    "\n",
    "x = list(range(10)) #cria lista [0, 1, ...,9]\n",
    "\n",
    "zero = x[0] #zero recebe o primeiro elemento da lista x\n",
    "one = x[1] #igual a 1\n",
    "nine = x[-1] # igual a 9\n",
    "x[0] = -1 #modifica o dado na posição 0 de x, agora será -1\n",
    "\n",
    "# possível repartir listas\n",
    "\n",
    "first_three = x[:3]\n",
    "three_to_end = x[3:]\n",
    "one_to_four = x[1:5]\n",
    "last_three = x[-3:]\n",
    "\n",
    "# operador IN para verificar associação à lista:\n",
    "\n",
    "1 in [1,2,3] #True\n",
    "0 in [1,2,3] #False\n",
    "\n",
    "# concatenar listas\n",
    "\n",
    "x = [1, 2, 3]\n",
    "x.extend([4, 5, 6]) #x é [1,2,3,4,5,6]\n",
    "\n",
    "x = [1, 2, 3]\n",
    "y = x + [4, 5, 6] #x continua [1,2,3] e y [1,2,3,4,5,6]\n",
    "\n",
    "x.append(0) # x é [1,2,3,0]\n",
    "\n",
    "# desfazendo lista\n",
    "\n",
    "x, y = [1, 2] #x = 1 e y = 2\n",
    "\n",
    "# caso os dois lados não tenham o mesmo número de elementos, ValueError ocorrre. \n",
    "\n",
    "# Você pode descartar um lado com _\n",
    "\n",
    "_, y = [[1,2],[3,4,5]]\n"
   ]
  },
  {
   "cell_type": "markdown",
   "metadata": {},
   "source": [
    "### 4. Tuplas\n",
    "*Tuple*\n",
    "\n",
    "Similares as listas, mas não podem ser modificadas!"
   ]
  },
  {
   "cell_type": "code",
   "execution_count": 8,
   "metadata": {},
   "outputs": [
    {
     "name": "stdout",
     "output_type": "stream",
     "text": [
      "cannot modify a tuple\n"
     ]
    }
   ],
   "source": [
    "my_list = [1, 2]\n",
    "my_tuple = (1, 2)\n",
    "\n",
    "other_thuple = 3, 4\n",
    "\n",
    "my_list[1] = 3 #my_list agora é [1, 3]\n",
    "\n",
    "try:\n",
    "    my_tuple[1] = 3\n",
    "except TypeError:\n",
    "    print (\"cannot modify a tuple\")\n",
    "    \n",
    "# forma eficaz de retornas múltiplos valores a partir de funções\n",
    "\n",
    "#Ex\n",
    "def sum_and_prod(x,y):\n",
    "    return (x+y),(x*y)\n",
    "\n",
    "sp = sum_and_prod(2,3) #igual a (5, 6)\n",
    "s, p = sum_and_prod(5,10) #s é 15 e p 50\n",
    "\n",
    "#atribuições múltiplas\n",
    "\n",
    "x, y = 1, 2\n",
    "x, y = y, x"
   ]
  },
  {
   "cell_type": "markdown",
   "metadata": {},
   "source": [
    "### Dicionários\n",
    "*Dictionaries*\n",
    "\n",
    "Outra estrutura fundamental do Python. Associa valores com chaves, permitindo a recuperação de um valor correspondente a uma chave rapidamente."
   ]
  },
  {
   "cell_type": "code",
   "execution_count": 22,
   "metadata": {},
   "outputs": [
    {
     "name": "stdout",
     "output_type": "stream",
     "text": [
      "no grade for Kate!\n"
     ]
    },
    {
     "data": {
      "text/plain": [
       "True"
      ]
     },
     "execution_count": 22,
     "metadata": {},
     "output_type": "execute_result"
    }
   ],
   "source": [
    "empty_dict = {} \n",
    "empty_dict2 = dict()\n",
    "\n",
    "# Ex: {chave: valor}\n",
    "grades = {\"Joel\": 80, \"Tim\": 95}\n",
    "joels_grade = grades[\"Joel\"] #é igual 80\n",
    "\n",
    "# KeyError caso procure uma chave que não pertence ao dicionário\n",
    "\n",
    "try:\n",
    "    kates_grade = grades[\"Kate\"]\n",
    "except KeyError:\n",
    "    print (\"no grade for Kate!\")\n",
    "    \n",
    "# verificando a existência de uma chave\n",
    "joel_has_grade = \"Joel\" in grades #Verdadeiro\n",
    "kate_has_grade = \"Kate\" in grades #Falso\n",
    "\n",
    "# possuem método get \n",
    "joels_grade = grades.get(\"Joel\",0)\n",
    "kates_grade = grades.get(\"Kate\",0)\n",
    "\n",
    "# atribuindo pares valor-chave\n",
    "grades[\"Tim\"] = 90 # substitui valor antigo\n",
    "grades[\"Kate\"] = 100 #adiciona mais uma entrada no Dic\n",
    "\n",
    "num_students = len(grades) #igual a 3\n",
    "\n",
    "# simples maneira de representar dados estruturados\n",
    "\n",
    "tweet = {\n",
    "    \"user\": \"jeanlima\",\n",
    "    \"text\": \"Data Science is Awesome!\",\n",
    "    \"retweet_count\": 100,\n",
    "    \"hashtags\": [\"#data\", \"#science\", \"#datascience\", \"#awesome\", \"#yolo\"]\n",
    "}\n",
    "\n",
    "tweet_keys = tweet.keys() # lista de chaves\n",
    "tweet_values = tweet.values() # lista de valores-chave\n",
    "tweet_items = tweet.items() # lista de (chave, valor) tuplas\n",
    "\n",
    "\"user\" in tweet\n",
    "\"jeanlima\" in tweet_values"
   ]
  },
  {
   "cell_type": "markdown",
   "metadata": {},
   "source": [
    "### Exemplo 1\n",
    "*Example 1*\n",
    "\n",
    "Contando as palavras de um documento. Criar dicionário no qual as chaves são as palavras e os valores são as contagens de cada palavra.\n",
    "\n",
    "Soluções 1 e 2 com o que aprendemos até agora. Solução 3 usa **defaultdict** e a Solção 4 utiliza **Counter**\n",
    "\n",
    "#### defaultdict\n",
    "\n",
    "Funciona com um dicionario comum, mas quando se tenta procurar uma chave que ele não possui, ele primeiro adiciona um valor para ela usando a função de argumento zero que é fornecida ao criá-lo."
   ]
  },
  {
   "cell_type": "code",
   "execution_count": 5,
   "metadata": {},
   "outputs": [],
   "source": [
    "document = open('document.txt', 'r')\n",
    "\n",
    "# solução 1\n",
    "\n",
    "word_counts = {}\n",
    "for word in document:\n",
    "    try:\n",
    "        word_counts[word] += 1 #palavra já está no dic\n",
    "    except KeyError:\n",
    "        word_counts[word] = 1 #palavra ainda nao foi adicionada ao dic\n",
    "# solução 2\n",
    "\n",
    "document = open('document.txt', 'r')\n",
    "word_counts = {}\n",
    "for word in document:\n",
    "    previous_count = word_counts.get(word,0) #0 se a palavra não está no dic\n",
    "    word_counts[word] = previous_count + 1   # implementa a contagem\n",
    "\n",
    "# solução 3\n",
    "\n",
    "from collections import defaultdict\n",
    "\n",
    "document = open('document.txt', 'r')\n",
    "\n",
    "word_counts = defaultdict(int) #int() produz 0, adicionará zero quando não encontra a palavra\n",
    "for word in document:\n",
    "    word_counts[word] += 1 # se a palavra existe, conta +1; caso não exista, adiciona 0 e depois conta +1\n",
    "\n",
    "### defaultdicts podem ser úteis com LIST e DICT\n",
    "\n",
    "dd_list = defaultdict(list) #list() produz uma lista vazia\n",
    "\n",
    "#para chave 2 associe o lista [1]\n",
    "dd_list[2].append(1) # dd_list {2 : [1]}\n",
    "\n",
    "dd_dict = defaultdict(dict) # dict() produz dict vazio\n",
    "dd_dict[\"Joel\"][\"City\"] = \"Seattle\" # {\"Joel\":{\"City\": \"Seattle\"}}"
   ]
  },
  {
   "cell_type": "markdown",
   "metadata": {},
   "source": [
    "#### Contador\n",
    "*Counter*\n",
    "\n",
    "O contador transforma uma sequência de valores em algo parecido com o objeto *defaultdic(int)*, mapeando as chaves para as contages."
   ]
  },
  {
   "cell_type": "code",
   "execution_count": 17,
   "metadata": {},
   "outputs": [
    {
     "name": "stdout",
     "output_type": "stream",
     "text": [
      "3 nice\n",
      "\n",
      "2 hi\n",
      "\n",
      "2 hello\n",
      "\n"
     ]
    }
   ],
   "source": [
    "from collections import Counter\n",
    "\n",
    "c = Counter([0,1,2,0]) # c é {0: 2, 1: 1, 2: 1} contou 2 zeros, 1 um e 1 dois.\n",
    "\n",
    "#Solução 4\n",
    "document = open('document.txt', 'r')\n",
    "word_counts = Counter(document)\n",
    "\n",
    "# Utilizando método most_commum da instância Counter\n",
    "# imprime as tres palavras mais comuns e suas contas\n",
    "\n",
    "for word,count in word_counts.most_common(3):\n",
    "    print (count, word)"
   ]
  },
  {
   "cell_type": "markdown",
   "metadata": {},
   "source": [
    "### Conjuntos\n",
    "*Sets*\n",
    "\n",
    "Estrutura de dados que representa uma coleção de elementos **DISTINTOS**.\n",
    "\n",
    "Dois principais motivos para utilizar conjuntos:\n",
    "\n",
    "1. Operação *in* é rápida. Útil para testar uma coleção de itens muito grande.\n",
    "2. Encontrar itens distintos em uma coleção"
   ]
  },
  {
   "cell_type": "code",
   "execution_count": 21,
   "metadata": {},
   "outputs": [],
   "source": [
    "s = set()\n",
    "s.add(1) # s agora é {1}\n",
    "s.add(2) # s agora é {1, 2}\n",
    "s.add(2) # s AINDA é {1, 2} porque em conjuntos os valores DEVEM SER DISTINTOS\n",
    "\n",
    "x = len(s) # igual a 2\n",
    "y = 2 in s # Verdadeiro\n",
    "\n",
    "# 1. operação in\n",
    "\n",
    "hundreds_of_other_words = [\"\"]\n",
    "stopwords_list = [\"a\", \"an\", \"at\"] + hundreds_of_other_words + [\"yet\", \"you\"]\n",
    "\n",
    "\"zip\" in stopwords_list #Falso, mas verifica TODOS os elementos\n",
    "\n",
    "stopwords_set = set(stopwords_list) # transforma list em set\n",
    "\"zip\" in stopwords_set # rápido de verificar\n",
    "\n",
    "# 2. itens distintos\n",
    "\n",
    "item_list = [1,2,3,1,2,3]\n",
    "num_items = len(item_list) #6\n",
    "\n",
    "item_set = set(item_list) # {1,2,3}\n",
    "num_distinct_items = len(item_set) # 3\n",
    "\n",
    "distinct_item_list = list(item_set) # [1,2,3]\n",
    "\n",
    "\n"
   ]
  },
  {
   "cell_type": "markdown",
   "metadata": {},
   "source": [
    "### Controle de Fluxo\n",
    "*Control Flow*\n",
    "\n",
    "Python tem as estruturas usuais de controle de fluxo conhecidas em outras linguagens."
   ]
  },
  {
   "cell_type": "code",
   "execution_count": null,
   "metadata": {},
   "outputs": [],
   "source": []
  }
 ],
 "metadata": {
  "kernelspec": {
   "display_name": "Python 3",
   "language": "python",
   "name": "python3"
  },
  "language_info": {
   "codemirror_mode": {
    "name": "ipython",
    "version": 3
   },
   "file_extension": ".py",
   "mimetype": "text/x-python",
   "name": "python",
   "nbconvert_exporter": "python",
   "pygments_lexer": "ipython3",
   "version": "3.7.4"
  }
 },
 "nbformat": 4,
 "nbformat_minor": 2
}
